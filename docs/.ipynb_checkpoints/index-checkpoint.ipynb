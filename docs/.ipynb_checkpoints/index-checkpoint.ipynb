{
 "cells": [
  {
   "cell_type": "markdown",
   "metadata": {},
   "source": [
    "## CS184: Computer Graphics\n",
    "## Sping 2022\n",
    "## Assignment 4\n",
    "\n",
    "## Prince Wang"
   ]
  },
  {
   "cell_type": "markdown",
   "metadata": {},
   "source": [
    "## Overview"
   ]
  },
  {
   "cell_type": "markdown",
   "metadata": {},
   "source": [
    "\n",
    "\n",
    "An overview of the project, your approach to and implementation for each of the parts, and what problems you encountered and how you solved them. Strive for clarity and succinctness.\n",
    "On each part, make sure to include the results described in the corresponding Deliverables section in addition to your explanation. If you failed to generate any results correctly, provide a brief explanation of why.\n",
    "The final (optional) part for the art competition is where you have the opportunity to be creative and individual, so be sure to provide a good description of what you were going for and how you implemented it.\n",
    "Clearly indicate any extra credit items you completed, and provide a thorough explanation and illustration for each of them."
   ]
  },
  {
   "cell_type": "markdown",
   "metadata": {},
   "source": [
    "## Part 1: Masses and Springs"
   ]
  },
  {
   "cell_type": "markdown",
   "metadata": {},
   "source": [
    "### Requirements\n",
    "- Take some screenshots of scene/pinned2.json from a viewing angle where you can clearly see the cloth wireframe to show the structure of your point masses and springs.\n",
    "- Show us what the wireframe looks like (1) without any shearing constraints, (2) with only shearing constraints, and (3) with all constraints."
   ]
  },
  {
   "cell_type": "markdown",
   "metadata": {},
   "source": [
    "####  Take some screenshots of scene/pinned2.json from a viewing angle where you can clearly see the cloth wireframe to show the structure of your point masses and springs."
   ]
  },
  {
   "cell_type": "markdown",
   "metadata": {},
   "source": [
    "\n",
    "<td> <img src=\"./webpage_img/part1_1.png\" style=\"width: 700px;\"/>\n",
    "     <figcaption align=\"middle\" style=\"font-size: 24;\"> angle 1 </figcaption></td>\n"
   ]
  },
  {
   "cell_type": "markdown",
   "metadata": {},
   "source": [
    "<td> <img src=\"./webpage_img/part1_2.png\" style=\"width: 700px;\"/>\n",
    "     <figcaption align=\"middle\" style=\"font-size: 24;\"> angle 2 </figcaption></td>"
   ]
  },
  {
   "cell_type": "markdown",
   "metadata": {},
   "source": [
    "#### Show us what the wireframe looks like (1) without any shearing constraints, (2) with only shearing constraints, and (3) with all constraints"
   ]
  },
  {
   "cell_type": "markdown",
   "metadata": {},
   "source": [
    "<table><tr>\n",
    "    \n",
    "<td> <img src=\"./webpage_img/part1_3.png\" style=\"width: 700px;\"/>\n",
    "     <figcaption align=\"middle\" style=\"font-size: 24;\"> without any shearing constraints </figcaption></td>\n",
    "     \n",
    "</tr></table>   \n",
    "<table><tr>\n",
    "\n",
    "<td> <img src=\"./webpage_img/part1_4.png\" style=\"width: 700px;\"/>\n",
    "     <figcaption align=\"middle\" style=\"font-size: 24;\">  with only shearing constraints </figcaption></td>\n",
    "\n",
    "</tr></table>\n",
    "\n",
    "<table><tr>\n",
    "    \n",
    "<td> <img src=\"./webpage_img/part1_5.png\" style=\"width: 700px;\"/>\n",
    "     <figcaption align=\"middle\" style=\"font-size: 24;\"> with all constraints </figcaption></td>\n",
    "     \n",
    "</tr></table>"
   ]
  },
  {
   "cell_type": "markdown",
   "metadata": {},
   "source": [
    "## Part 2\n",
    "\n",
    "### Requirements\n",
    "- Experiment with some the parameters in the simulation. To do so, pause the simulation at the start with P, modify the values of interest, and then resume by pressing P again. You can also restart the simulation at any time from the cloth's starting position by pressing R.\n",
    "    - Describe the effects of changing the spring constant ks; how does the cloth behave from start to rest with a very low ks? A high ks?\n",
    "    - What about for density?\n",
    "    - What about for damping?\n",
    "    - For each of the above, observe any noticeable differences in the cloth compared to the default parameters and show us some screenshots of those interesting differences and describe when they occur.\n",
    "- Show us a screenshot of your shaded cloth from scene/pinned4.json in its final resting state! If you choose to use different parameters than the default ones, please list them."
   ]
  },
  {
   "cell_type": "markdown",
   "metadata": {},
   "source": [
    "####  Experiment with some the parameters in the simulation. To do so, pause the simulation at the start with P, modify the values of interest, and then resume by pressing P again. You can also restart the simulation at any time from the cloth's starting position by pressing R.\n",
    "\n",
    "##### Describe the effects of changing the spring constant ks; how does the cloth behave from start to rest with a very low ks? A high ks?\n",
    "\n",
    "If we have very low ks, our cloth becomes very stretchy, and thus the pinned sections stretch quite a bit from the cloth. In contrast, for high ks, our cloth does not stretch a lot.\n",
    "\n",
    "<table><tr>\n",
    "    \n",
    "<td> <img src=\"./webpage_img/part2_1.png\" style=\"width: 500px;\"/>\n",
    "     <figcaption align=\"middle\" style=\"font-size: 24;\"> high ks </figcaption></td>\n",
    "\n",
    "<td> <img src=\"./webpage_img/part2_2.png\" style=\"width: 500px;\"/>\n",
    "     <figcaption align=\"middle\" style=\"font-size: 24;\"> low ks</figcaption></td>\n",
    "\n",
    "</tr></table>\n",
    "\n",
    "##### What about for density?\n",
    "\n",
    "It is a very similar effect to ks. If we have high density, our cloth becomes heavier due to gravity, so our cloth stretches more just like a low ks case. On the other hand, low density makes it behave like high ks case.\n",
    "\n",
    "<table><tr>\n",
    "    \n",
    "<td> <img src=\"./webpage_img/part2_3.png\" style=\"width: 500px;\"/>\n",
    "     <figcaption align=\"middle\" style=\"font-size: 24;\"> high density </figcaption></td>\n",
    "\n",
    "<td> <img src=\"./webpage_img/part2_4.png\" style=\"width: 500px;\"/>\n",
    "     <figcaption align=\"middle\" style=\"font-size: 24;\"> low density</figcaption></td>\n",
    "\n",
    "</tr></table>\n",
    "\n",
    "##### What about for damping?\n",
    "\n",
    "For damping, high damping makes our cloth fall slowly to the place of rest, and stay pretty still there. For low damping, our cloth swings around and takes a long time to reach a state of rest\n",
    "<table><tr>\n",
    "    \n",
    "<td> <img src=\"./webpage_img/part2_5.png\" style=\"width: 500px;\"/>\n",
    "     <figcaption align=\"middle\" style=\"font-size: 24;\"> low damping </figcaption></td>\n",
    "\n",
    "<td> <img src=\"./webpage_img/part2_6.png\" style=\"width: 500px;\"/>\n",
    "     <figcaption align=\"middle\" style=\"font-size: 24;\"> high damping</figcaption></td>\n",
    "\n",
    "</tr></table>"
   ]
  },
  {
   "cell_type": "markdown",
   "metadata": {},
   "source": [
    "#### Show us a screenshot of your shaded cloth from scene/pinned4.json in its final resting state! If you choose to use different parameters than the default ones, please list them.\n",
    "\n",
    "<table><tr>\n",
    "    \n",
    "<td> <img src=\"./webpage_img/part2_7.png\" style=\"width: 500px;\"/>\n",
    "     <figcaption align=\"middle\" style=\"font-size: 24;\"> </figcaption></td>\n",
    "\n",
    "</tr></table>\n"
   ]
  },
  {
   "cell_type": "markdown",
   "metadata": {},
   "source": [
    "## Part 3\n",
    "\n",
    "### Requirements\n",
    "- Show us screenshots of your shaded cloth from scene/sphere.json in its final resting state on the sphere using the default ks = 5000 as well as with ks = 500 and ks = 50000. Describe the differences in the results.\n",
    "- Show us a screenshot of your shaded cloth lying peacefully at rest on the plane. If you haven't by now, feel free to express your colorful creativity with the cloth! (You will need to complete PQart 5 first to show custom colors for anything but the \"Wireframe\" material.)"
   ]
  },
  {
   "cell_type": "markdown",
   "metadata": {},
   "source": [
    "#### Show us screenshots of your shaded cloth from scene/sphere.json in its final resting state on the sphere using the default ks = 5000 as well as with ks = 500 and ks = 50000. Describe the differences in the results.|\n",
    "<table><tr>\n",
    "    \n",
    "<td> <img src=\"./webpage_img/part3_1.png\" style=\"width: 500px;\"/>\n",
    "     <figcaption align=\"middle\" style=\"font-size: 24;\"> ks 500 </figcaption></td>\n",
    "\n",
    "<td> <img src=\"./webpage_img/part3_2.png\" style=\"width: 500px;\"/>\n",
    "     <figcaption align=\"middle\" style=\"font-size: 24;\"> ks 5000</figcaption></td>\n",
    "\n",
    "</tr></table>\n",
    "\n",
    "<table><tr>\n",
    "    \n",
    "<td> <img src=\"./webpage_img/part3_3.png\" style=\"width: 500px;\"/>\n",
    "     <figcaption align=\"middle\" style=\"font-size: 24;\"> ks 50000 </figcaption></td>\n",
    "\n",
    "\n",
    "</tr></table>\n",
    "\n",
    "#### Show us a screenshot of your shaded cloth lying peacefully at rest on the plane. If you haven't by now, feel free to express your colorful creativity with the cloth! (You will need to complete Part 5 first to show custom colors for anything but the \"Wireframe\" material.)\n",
    "\n",
    "\n",
    "<table><tr>\n",
    "    \n",
    "<td> <img src=\"./webpage_img/part3_4.png\" style=\"width: 500px;\"/>\n",
    "     <figcaption align=\"middle\" style=\"font-size: 24;\"> ks 50000 </figcaption></td>\n",
    "\n",
    "\n",
    "</tr></table>"
   ]
  },
  {
   "cell_type": "markdown",
   "metadata": {},
   "source": [
    "## Part 4\n",
    "\n",
    "### Requirements\n",
    "- Show us at least 3 screenshots that document how your cloth falls and folds on itself, starting with an early, initial self-collision and ending with the cloth at a more restful state (even if it is still slightly bouncy on the ground).\n",
    "- Vary the density as well as ks and describe with words and screenshots how they affect the behavior of the cloth as it falls on itself."
   ]
  },
  {
   "cell_type": "markdown",
   "metadata": {},
   "source": [
    "#### Show us at least 3 screenshots that document how your cloth falls and folds on itself, starting with an early, initial self-collision and ending with the cloth at a more restful state (even if it is still slightly bouncy on the ground).\n",
    "\n",
    "<table><tr>\n",
    "    \n",
    "<td> <img src=\"./webpage_img/part4_1.png\" style=\"width: 500px;\"/>\n",
    "     <figcaption align=\"middle\" style=\"font-size: 24;\"> start of fall </figcaption></td>\n",
    "\n",
    "<td> <img src=\"./webpage_img/part4_2.png\" style=\"width: 500px;\"/>\n",
    "     <figcaption align=\"middle\" style=\"font-size: 24;\"> middle of fall</figcaption></td>\n",
    "\n",
    "</tr></table>\n",
    "\n",
    "<table><tr>\n",
    "    \n",
    "<td> <img src=\"./webpage_img/part4_3.png\" style=\"width: 500px;\"/>\n",
    "     <figcaption align=\"middle\" style=\"font-size: 24;\"> resting </figcaption></td>\n",
    "\n",
    "\n",
    "</tr></table>\n",
    "\n",
    "#### Vary the density as well as ks and describe with words and screenshots how they affect the behavior of the cloth as it falls on itself.\n",
    "<table><tr>\n",
    "    \n",
    "<td> <img src=\"./webpage_img/part4_4.png\" style=\"width: 500px;\"/>\n",
    "     <figcaption align=\"middle\" style=\"font-size: 24;\"> low ks </figcaption></td>\n",
    "\n",
    "<td> <img src=\"./webpage_img/part4_5.png\" style=\"width: 500px;\"/>\n",
    "     <figcaption align=\"middle\" style=\"font-size: 24;\"> high ks</figcaption></td>\n",
    "\n",
    "</tr></table>\n",
    "\n",
    "Low ks makes our cloth folds on itself more easily, whereas high ks makes our cloth more stiff. You can see the difference by counting the number of loops when the cloth is at rest\n",
    "\n",
    "<table><tr>\n",
    "    \n",
    "<td> <img src=\"./webpage_img/part4_6.png\" style=\"width: 500px;\"/>\n",
    "     <figcaption align=\"middle\" style=\"font-size: 24;\"> low density </figcaption></td>\n",
    "\n",
    "<td> <img src=\"./webpage_img/part4_7.png\" style=\"width: 500px;\"/>\n",
    "     <figcaption align=\"middle\" style=\"font-size: 24;\"> high density </figcaption></td>\n",
    "\n",
    "</tr></table>\n",
    "\n",
    "Low density is similar to high ks case, in that our clothes look more stiff. High density makes our cloth heavier thus just like low ks it folds into itself"
   ]
  },
  {
   "cell_type": "code",
   "execution_count": null,
   "metadata": {},
   "outputs": [],
   "source": []
  }
 ],
 "metadata": {
  "kernelspec": {
   "display_name": "Python 3",
   "language": "python",
   "name": "python3"
  },
  "language_info": {
   "codemirror_mode": {
    "name": "ipython",
    "version": 3
   },
   "file_extension": ".py",
   "mimetype": "text/x-python",
   "name": "python",
   "nbconvert_exporter": "python",
   "pygments_lexer": "ipython3",
   "version": "3.6.6"
  }
 },
 "nbformat": 4,
 "nbformat_minor": 2
}
